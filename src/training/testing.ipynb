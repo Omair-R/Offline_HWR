{
 "cells": [
  {
   "cell_type": "code",
   "execution_count": 1,
   "metadata": {},
   "outputs": [],
   "source": [
    "import cv2 as cv\n",
    "import numpy as np\n",
    "import matplotlib.pyplot as plt\n",
    "import random\n",
    "import tensorflow as tf"
   ]
  },
  {
   "cell_type": "code",
   "execution_count": 2,
   "metadata": {},
   "outputs": [
    {
     "name": "stderr",
     "output_type": "stream",
     "text": [
      "c:\\Personal_Files\\Projects\\Github\\offline_HWR\\Offline_HWR\\currentenv\\lib\\site-packages\\numpy\\core\\numeric.py:2463: FutureWarning: elementwise comparison failed; returning scalar instead, but in the future will perform elementwise comparison\n",
      "  return bool(asarray(a1 == a2).all())\n"
     ]
    }
   ],
   "source": [
    "import image_processing\n",
    "import data_handler\n",
    "import models"
   ]
  },
  {
   "cell_type": "code",
   "execution_count": 3,
   "metadata": {},
   "outputs": [
    {
     "data": {
      "image/png": "[encoded data removed]",
      "text/plain": [
       "<Figure size 432x288 with 2 Axes>"
      ]
     },
     "metadata": {
      "needs_background": "light"
     },
     "output_type": "display_data"
    }
   ],
   "source": [
    "\n",
    "img = cv.imread(\n",
    "    r'C:\\Personal_Files\\Projects\\Github\\offline_HWR\\Offline_HWR\\src\\training\\a01-000u-03-05.png',\n",
    "    cv.IMREAD_GRAYSCALE)\n",
    "\n",
    "# img = cv.imread(\n",
    "#     r'C:\\Personal_Files\\Projects\\Github\\offline_HWR\\Offline_HWR\\src\\training\\a04-010-00-01.png',\n",
    "#     cv.IMREAD_GRAYSCALE)\n",
    "\n",
    "# img = cv.imread(\n",
    "#     r'C:\\Personal_Files\\Projects\\Github\\offline_HWR\\Offline_HWR\\src\\training\\a01-000x-00-06.png',\n",
    "#     cv.IMREAD_GRAYSCALE)\n",
    "\n",
    "img = image_processing.process_image_prediction(img, verbose=True)"
   ]
  },
  {
   "cell_type": "code",
   "execution_count": 37,
   "metadata": {},
   "outputs": [
    {
     "name": "stdout",
     "output_type": "stream",
     "text": [
      "LOG:  Loading datafrom database ... \n"
     ]
    }
   ],
   "source": [
    "data_raw = data_handler.import_dataset(r'C:\\Personal_Files\\Projects\\Github\\offline_HWR\\Offline_HWR\\src\\words.txt')"
   ]
  },
  {
   "cell_type": "code",
   "execution_count": 38,
   "metadata": {},
   "outputs": [
    {
     "name": "stdout",
     "output_type": "stream",
     "text": [
      "LOG:  Processing data ... \n",
      "LOG:  Data was processed\n"
     ]
    }
   ],
   "source": [
    "data, labels = data_handler.extract_data_labels(data_raw, r'C:\\Personal_Files\\Projects\\Github\\offline_HWR\\Offline_HWR\\src\\words', num_data=5000)"
   ]
  },
  {
   "cell_type": "code",
   "execution_count": 39,
   "metadata": {},
   "outputs": [],
   "source": [
    "labels_encoded = data_handler.encode_labels(labels)"
   ]
  },
  {
   "cell_type": "code",
   "execution_count": 40,
   "metadata": {},
   "outputs": [
    {
     "name": "stdout",
     "output_type": "stream",
     "text": [
      "shape of data:  (5000, 128, 32)\n",
      "shape of labels:  (5000, 16)\n"
     ]
    }
   ],
   "source": [
    "print(\"shape of data: \", data.shape)\n",
    "print(\"shape of labels: \", labels_encoded.shape)\n"
   ]
  },
  {
   "cell_type": "code",
   "execution_count": 41,
   "metadata": {},
   "outputs": [],
   "source": [
    "model = models.Conventional_CNN()"
   ]
  },
  {
   "cell_type": "code",
   "execution_count": 42,
   "metadata": {},
   "outputs": [],
   "source": [
    "model = models.build_and_compile_model(model)"
   ]
  },
  {
   "cell_type": "code",
   "execution_count": 43,
   "metadata": {},
   "outputs": [
    {
     "name": "stdout",
     "output_type": "stream",
     "text": [
      "Epoch 1/5\n",
      "282/282 [==============================] - 52s 163ms/step - loss: 18.9971 - val_loss: 15.7737\n",
      "Epoch 2/5\n",
      "282/282 [==============================] - 48s 172ms/step - loss: 15.1597 - val_loss: 15.0445\n",
      "Epoch 3/5\n",
      "282/282 [==============================] - 44s 157ms/step - loss: 14.7042 - val_loss: 14.6794\n",
      "Epoch 4/5\n",
      "282/282 [==============================] - 44s 154ms/step - loss: 14.3029 - val_loss: 14.4303\n",
      "Epoch 5/5\n",
      "282/282 [==============================] - 46s 163ms/step - loss: 13.9553 - val_loss: 14.1533\n"
     ]
    }
   ],
   "source": [
    "early_stopping = tf.keras.callbacks.EarlyStopping(monitor=\"val_loss\",\n",
    "                                                   patience=2,\n",
    "                                                   restore_best_weights=True)\n",
    "\n",
    "\n",
    "history = model.fit(x=data,\n",
    "                    y=labels_encoded,\n",
    "                    batch_size=16,\n",
    "                    epochs=5,\n",
    "                    verbose=1,\n",
    "                    validation_split=0.1,\n",
    "                    callbacks=[early_stopping],\n",
    "                    shuffle=True)\n"
   ]
  },
  {
   "cell_type": "code",
   "execution_count": 44,
   "metadata": {},
   "outputs": [
    {
     "name": "stdout",
     "output_type": "stream",
     "text": [
      "1/1 [==============================] - 2s 2s/step\n"
     ]
    }
   ],
   "source": [
    "prediction = model.predict(img)"
   ]
  },
  {
   "cell_type": "code",
   "execution_count": 45,
   "metadata": {},
   "outputs": [
    {
     "data": {
      "text/plain": [
       "'s9d'"
      ]
     },
     "execution_count": 45,
     "metadata": {},
     "output_type": "execute_result"
    }
   ],
   "source": [
    "data_handler.decode_batch_predictions(prediction)"
   ]
  },
  {
   "cell_type": "code",
   "execution_count": null,
   "metadata": {},
   "outputs": [],
   "source": [
    "model.save('out.h5')"
   ]
  }
 ],
 "metadata": {
  "kernelspec": {
   "display_name": "Python 3.10.5 ('currentenv': venv)",
   "language": "python",
   "name": "python3"
  },
  "language_info": {
   "codemirror_mode": {
    "name": "ipython",
    "version": 3
   },
   "file_extension": ".py",
   "mimetype": "text/x-python",
   "name": "python",
   "nbconvert_exporter": "python",
   "pygments_lexer": "ipython3",
   "version": "3.10.5"
  },
  "orig_nbformat": 4,
  "vscode": {
   "interpreter": {
    "hash": "5f781a92a7ed4da7b39c5a04cffcef553b03f40b11ce4917037f7e3794761a4c"
   }
  }
 },
 "nbformat": 4,
 "nbformat_minor": 2
}
